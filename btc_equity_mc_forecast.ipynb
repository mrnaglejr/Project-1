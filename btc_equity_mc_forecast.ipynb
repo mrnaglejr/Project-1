{
 "cells": [
  {
   "cell_type": "markdown",
   "id": "962080ce",
   "metadata": {},
   "source": [
    "### Import libraries, set up Alpaca API, and create function to pull stock prices from Alpaca"
   ]
  },
  {
   "cell_type": "code",
   "execution_count": null,
   "id": "fa7637a7",
   "metadata": {},
   "outputs": [],
   "source": [
    "# Import libraries and dependencies\n",
    "import os\n",
    "import pandas as pd\n",
    "import alpaca_trade_api as tradeapi\n",
    "from MCForecastTools import MCSimulation\n",
    "from pathlib import Path"
   ]
  },
  {
   "cell_type": "code",
   "execution_count": null,
   "id": "ef0dc92b",
   "metadata": {},
   "outputs": [],
   "source": [
    "# Load .env enviroment variables\n",
    "from dotenv import load_dotenv\n",
    "load_dotenv()"
   ]
  },
  {
   "cell_type": "code",
   "execution_count": null,
   "id": "d8d9827e",
   "metadata": {},
   "outputs": [],
   "source": [
    "# Set Alpaca API key and secret\n",
    "alpaca_api_key = os.getenv(\"ALPACA_API_KEY\")\n",
    "alpaca_secret_key = os.getenv(\"ALPACA_SECRET_KEY\")\n",
    "\n",
    "api = tradeapi.REST(\n",
    "    alpaca_api_key,\n",
    "    alpaca_secret_key,\n",
    "    api_version = \"v2\"\n",
    ")"
   ]
  },
  {
   "cell_type": "code",
   "execution_count": null,
   "id": "907c6a8a",
   "metadata": {},
   "outputs": [],
   "source": [
    "# Create function to pull stock data from Alpaca\n",
    "def alpaca_pull(ticker):\n",
    "    timeframe = \"1D\"\n",
    "\n",
    "    # Set end datetime\n",
    "    end_date = pd.Timestamp(\"2021-07-15\", tz=\"America/New_York\").isoformat()\n",
    "\n",
    "    # Set the ticker information\n",
    "    tickers = [ticker]\n",
    "\n",
    "    # Get 3 year's worth of historical price data for Microsoft and Coca-Cola\n",
    "    df_ticker = api.get_barset(\n",
    "    tickers,\n",
    "    timeframe,\n",
    "    end=end_date,\n",
    "    limit=1000,\n",
    "    ).df\n",
    "\n",
    "    return df_ticker"
   ]
  },
  {
   "cell_type": "markdown",
   "id": "ff79dae6",
   "metadata": {},
   "source": [
    "# Is Bitcoin a good investment for the future?\n",
    "# How does Bitcoin compare to the equities and indices as an investment going forward?"
   ]
  },
  {
   "cell_type": "markdown",
   "id": "f7241aed",
   "metadata": {},
   "source": [
    "### Load price data for Monte Carlo Simulations"
   ]
  },
  {
   "cell_type": "code",
   "execution_count": null,
   "id": "fa8c6ddb",
   "metadata": {},
   "outputs": [],
   "source": [
    "# Pull AAPL prices from Alpaca and store in a dataframe\n",
    "aapl_df = alpaca_pull(\"AAPL\")\n",
    "\n",
    "# Review first and last rows of the aapl_df\n",
    "print(aapl_df.head())\n",
    "print(aapl_df.tail())\n",
    "\n",
    "# Confirm that there are no nulls in the dataframte\n",
    "aapl_df.isnull().sum()"
   ]
  },
  {
   "cell_type": "code",
   "execution_count": null,
   "id": "7af717ae",
   "metadata": {},
   "outputs": [],
   "source": [
    "# Pull AMZN prices from Alpaca and store in a dataframe\n",
    "amzn_df = alpaca_pull(\"AMZN\")\n",
    "\n",
    "# Review first and last rows on the amzn_df\n",
    "print(amzn_df.head())\n",
    "print(amzn_df.tail())\n",
    "\n",
    "# Confirm that there are no null values in the dataframe\n",
    "amzn_df.isnull().sum()"
   ]
  },
  {
   "cell_type": "code",
   "execution_count": null,
   "id": "58352b64",
   "metadata": {},
   "outputs": [],
   "source": [
    "# Pull DIA prices from Alpaca and store in a dataframe\n",
    "dia_df = alpaca_pull(\"DIA\")\n",
    "\n",
    "# Review first and last rows on the dia_df\n",
    "print(dia_df.head())\n",
    "print(dia_df.tail())\n",
    "\n",
    "# Confirm that there are no null values in the dataframe\n",
    "dia_df.isnull().sum()"
   ]
  },
  {
   "cell_type": "code",
   "execution_count": null,
   "id": "a926f31f",
   "metadata": {},
   "outputs": [],
   "source": [
    "# Pull MSFT prices from Alpaca and store in a dataframe\n",
    "msft_df = alpaca_pull(\"MSFT\")\n",
    "\n",
    "# Review first and last rows of the msft_df\n",
    "print(msft_df.head())\n",
    "print(msft_df.tail())\n",
    "\n",
    "# Confirm that there are no null values in the dataframe\n",
    "msft_df.isnull().sum()"
   ]
  },
  {
   "cell_type": "code",
   "execution_count": null,
   "id": "e6e6d71b",
   "metadata": {},
   "outputs": [],
   "source": [
    "# Pull QQQ prices from Alpaca and store in a dataframe\n",
    "qqq_df = alpaca_pull(\"QQQ\")\n",
    "\n",
    "# Review the first and last rows of the dataframe\n",
    "print(qqq_df.head())\n",
    "print(qqq_df.tail())\n",
    "\n",
    "# Confirm that there are no null values in the dataframe\n",
    "qqq_df.isnull().sum()"
   ]
  },
  {
   "cell_type": "code",
   "execution_count": null,
   "id": "1690560e",
   "metadata": {},
   "outputs": [],
   "source": [
    "# Pull SPY prices from Alpaca and load in a dataframe\n",
    "spy_df = alpaca_pull(\"SPY\")\n",
    "\n",
    "# Review the first and last rows of spy_df\n",
    "print(spy_df.head())\n",
    "print(spy_df.tail())\n",
    "\n",
    "# Confirm that there are no null values in the dataframe\n",
    "spy_df.isnull().sum()"
   ]
  },
  {
   "cell_type": "code",
   "execution_count": null,
   "id": "39239fdf",
   "metadata": {},
   "outputs": [],
   "source": [
    "# Load csv with BTC daily closing prices and returns and format into dataframe compatible with MCForecastTools.py\n",
    "btc = Path(\"./input_data/btc_mc_input.csv\")\n",
    "btc_df = pd.read_csv(btc, header=[0,1]).dropna().rename(columns={\"Unnamed: 0_level_0\": \" \", \"Unnamed: 1_level_0\": \" \", \"Unnamed: 0_level_1\": \"time\"})\n",
    "\n",
    "# Review first and last rows of btc_df\n",
    "print(btc_df.head())\n",
    "print(btc_df.tail())\n",
    "\n",
    "# Confirm that there are no null values in the dataframe\n",
    "btc_df.isnull().sum()"
   ]
  },
  {
   "cell_type": "markdown",
   "id": "15c38bdb",
   "metadata": {},
   "source": [
    "### Set up 1000-path, 10-year Monte Carlo Simulations"
   ]
  },
  {
   "cell_type": "code",
   "execution_count": null,
   "id": "819939e6",
   "metadata": {},
   "outputs": [],
   "source": [
    "# Set up 1000-path, 10-year Monte Carlo simulations for all entities\n",
    "MC_aapl = MCSimulation(\n",
    "    portfolio_data = aapl_df,\n",
    "    weights = [1],\n",
    "    num_simulation = 1000,\n",
    "    num_trading_days = 252*10\n",
    ")\n",
    "\n",
    "MC_amzn = MCSimulation(\n",
    "    portfolio_data = amzn_df,\n",
    "    weights = [1],\n",
    "    num_simulation = 1000,\n",
    "    num_trading_days = 252*10\n",
    ")\n",
    "\n",
    "MC_btc = MCSimulation(\n",
    "    portfolio_data = btc_df,\n",
    "    weights = [1],\n",
    "    num_simulation = 1000,\n",
    "    num_trading_days = 252*10\n",
    ")\n",
    "\n",
    "MC_dia = MCSimulation(\n",
    "    portfolio_data = dia_df,\n",
    "    weights = [1],\n",
    "    num_simulation = 1000,\n",
    "    num_trading_days = 252*10\n",
    ")\n",
    "\n",
    "MC_msft = MCSimulation(\n",
    "    portfolio_data = msft_df,\n",
    "    weights = [1],\n",
    "    num_simulation = 1000,\n",
    "    num_trading_days = 252*10\n",
    ")\n",
    "\n",
    "MC_qqq = MCSimulation(\n",
    "    portfolio_data = qqq_df,\n",
    "    weights = [1],\n",
    "    num_simulation = 1000,\n",
    "    num_trading_days = 252*10\n",
    ")\n",
    "\n",
    "MC_spy = MCSimulation(\n",
    "    portfolio_data = spy_df,\n",
    "    weights = [1],\n",
    "    num_simulation = 1000,\n",
    "    num_trading_days = 252*10\n",
    ")"
   ]
  },
  {
   "cell_type": "markdown",
   "id": "fdd5f907",
   "metadata": {},
   "source": [
    "### Run Monte Carlo Simulations"
   ]
  },
  {
   "cell_type": "code",
   "execution_count": null,
   "id": "c1d39aa0",
   "metadata": {},
   "outputs": [],
   "source": [
    "# Running a Monte Carlo simulation to forecast five years cumulative returns\n",
    "MC_aapl.calc_cumulative_return()\n",
    "MC_amzn.calc_cumulative_return()\n",
    "MC_btc.calc_cumulative_return()\n",
    "MC_dia.calc_cumulative_return()\n",
    "MC_msft.calc_cumulative_return()\n",
    "MC_qqq.calc_cumulative_return()\n",
    "MC_spy.calc_cumulative_return()"
   ]
  },
  {
   "cell_type": "markdown",
   "id": "63a5b748",
   "metadata": {},
   "source": [
    "### Plot MC simulation paths and return distributions"
   ]
  },
  {
   "cell_type": "code",
   "execution_count": null,
   "id": "995ddfa0",
   "metadata": {},
   "outputs": [],
   "source": [
    "# Plot AAPL path simulations\n",
    "aapl_plot = MC_aapl.plot_simulation()"
   ]
  },
  {
   "cell_type": "code",
   "execution_count": null,
   "id": "b77a7ee2",
   "metadata": {},
   "outputs": [],
   "source": [
    "# Plot distribution of forecasted AAPL returns\n",
    "aapl_dist = MC_aapl.plot_distribution()"
   ]
  },
  {
   "cell_type": "code",
   "execution_count": null,
   "id": "bbcd8709",
   "metadata": {},
   "outputs": [],
   "source": [
    "# Plot AMZN path simulations\n",
    "amzn_plot = MC_amzn.plot_simulation()"
   ]
  },
  {
   "cell_type": "code",
   "execution_count": null,
   "id": "c397455e",
   "metadata": {},
   "outputs": [],
   "source": [
    "# Plot distribution of forecasted AMZN returns\n",
    "amzn_dist = MC_amzn.plot_distribution()"
   ]
  },
  {
   "cell_type": "code",
   "execution_count": null,
   "id": "0d0a6a8e",
   "metadata": {},
   "outputs": [],
   "source": [
    "# Plot BTC path simulations\n",
    "btc_plot = MC_btc.plot_simulation()"
   ]
  },
  {
   "cell_type": "code",
   "execution_count": null,
   "id": "8a626ca9",
   "metadata": {},
   "outputs": [],
   "source": [
    "# Plot distribution of forecasted BTC returns\n",
    "btc_dist = MC_btc.plot_distribution()"
   ]
  },
  {
   "cell_type": "code",
   "execution_count": null,
   "id": "0d4ca186",
   "metadata": {},
   "outputs": [],
   "source": [
    "# Plot DIA path simulations\n",
    "dia_plot = MC_dia.plot_simulation()"
   ]
  },
  {
   "cell_type": "code",
   "execution_count": null,
   "id": "f43414fb",
   "metadata": {},
   "outputs": [],
   "source": [
    "# Plot distribution of forecasted DIA returns\n",
    "dia_dist = MC_dia.plot_distribution()"
   ]
  },
  {
   "cell_type": "code",
   "execution_count": null,
   "id": "5c4a2c28",
   "metadata": {},
   "outputs": [],
   "source": [
    "# Plot MSFT path simulations\n",
    "msft_plot = MC_msft.plot_simulation()"
   ]
  },
  {
   "cell_type": "code",
   "execution_count": null,
   "id": "d4865bf6",
   "metadata": {},
   "outputs": [],
   "source": [
    "# Plot distribution of forecasted MSFT returns\n",
    "msft_dist = MC_msft.plot_distribution()"
   ]
  },
  {
   "cell_type": "code",
   "execution_count": null,
   "id": "11685c8c",
   "metadata": {},
   "outputs": [],
   "source": [
    "# Plot QQQ path simulations\n",
    "qqq_plot = MC_qqq.plot_simulation()"
   ]
  },
  {
   "cell_type": "code",
   "execution_count": null,
   "id": "de06ccf7",
   "metadata": {},
   "outputs": [],
   "source": [
    "# Plot distribution of forecasted QQQ returns\n",
    "qqq_dist = MC_qqq.plot_distribution()"
   ]
  },
  {
   "cell_type": "code",
   "execution_count": null,
   "id": "bda01b18",
   "metadata": {},
   "outputs": [],
   "source": [
    "# Plot SPY path simulations\n",
    "spy_plot = MC_spy.plot_simulation()"
   ]
  },
  {
   "cell_type": "code",
   "execution_count": null,
   "id": "b3699731",
   "metadata": {},
   "outputs": [],
   "source": [
    "# Plot distribution of forecasted SPY returns\n",
    "spy_dist = MC_spy.plot_distribution()"
   ]
  },
  {
   "cell_type": "markdown",
   "id": "9252fd61",
   "metadata": {},
   "source": [
    "### Summarize Monte Carlo forecast results"
   ]
  },
  {
   "cell_type": "code",
   "execution_count": null,
   "id": "b14712e1",
   "metadata": {},
   "outputs": [],
   "source": [
    "# Fetch summary statistics from the Monte Carlo simulation results\n",
    "aapl_stats = MC_aapl.summarize_cumulative_return()\n",
    "amzn_stats = MC_amzn.summarize_cumulative_return()\n",
    "btc_stats = MC_btc.summarize_cumulative_return()\n",
    "dia_stats = MC_dia.summarize_cumulative_return()\n",
    "msft_stats = MC_msft.summarize_cumulative_return()\n",
    "qqq_stats = MC_qqq.summarize_cumulative_return()\n",
    "spy_stats = MC_spy.summarize_cumulative_return()\n",
    "\n",
    "# Print summary statistics\n",
    "print(f\"Apple Forecast Statistics:\", '\\n', aapl_stats, '\\n')\n",
    "print(f\"Amazon Forecast Statistics:\", '\\n', amzn_stats, '\\n')\n",
    "print(f\"Bitcoin Forecast Statistics:\", '\\n', btc_stats, '\\n')\n",
    "print(f\"DJIA ETF Forecast Statistics:\", '\\n', dia_stats, '\\n')\n",
    "print(f\"MSFT Forecast Statistics:\", '\\n', msft_stats, '\\n')\n",
    "print(f\"QQQ Forecast Statistics:\", '\\n', qqq_stats, '\\n')\n",
    "print(f\"SPY Forecast Statistics:\", '\\n', spy_stats, '\\n')\n",
    "\n",
    "# Save forecast summary statistics in a text file:\n",
    "# Source: https://stackoverflow.com/questions/36571560/directing-print-output-to-a-txt-file\n",
    "with open(\"./mc_results_summary/fcst_summ_stats.txt\", \"w\") as file:\n",
    "    print(f\"Apple Forecast Statistics:\", '\\n', aapl_stats, '\\n', file=file)\n",
    "    print(f\"Amazon Forecast Statistics:\", '\\n', amzn_stats, '\\n', file=file)\n",
    "    print(f\"Bitcoin Forecast Statistics:\", '\\n', btc_stats, '\\n', file=file)\n",
    "    print(f\"DJIA ETF Forecast Statistics:\", '\\n', dia_stats, '\\n', file=file)\n",
    "    print(f\"MSFT Forecast Statistics:\", '\\n', msft_stats, '\\n', file=file)\n",
    "    print(f\"QQQ Forecast Statistics:\", '\\n', qqq_stats, '\\n', file=file)\n",
    "    print(f\"SPY Forecast Statistics:\", '\\n', spy_stats, '\\n', file=file)"
   ]
  },
  {
   "cell_type": "code",
   "execution_count": null,
   "id": "9ded74ff",
   "metadata": {},
   "outputs": [],
   "source": [
    "# Define initial investment amount\n",
    "initial_investment = 10000\n",
    "\n",
    "# Define AAPL confidence intervals & median\n",
    "aapl_ci_lower = round(aapl_stats[8] * initial_investment, 2)\n",
    "aapl_ci_upper = round(aapl_stats[9] * initial_investment, 2)\n",
    "aapl_median = round(aapl_stats[5] * initial_investment, 2)\n",
    "\n",
    "# Define AMZN confidence intervals & median\n",
    "amzn_ci_lower = round(amzn_stats[8] * initial_investment, 2)\n",
    "amzn_ci_upper = round(amzn_stats[9] * initial_investment, 2)\n",
    "amzn_median = round(amzn_stats[5] * initial_investment, 2)\n",
    "\n",
    "# Define BTC confidence intervals & median\n",
    "btc_ci_lower = round(btc_stats[8] * initial_investment, 2)\n",
    "btc_ci_upper = round(btc_stats[9] * initial_investment, 2)\n",
    "btc_median = round(btc_stats[5] * initial_investment, 2)\n",
    "\n",
    "# Define DIA confidence intervals & median\n",
    "dia_ci_lower = round(dia_stats[8] * initial_investment, 2)\n",
    "dia_ci_upper = round(dia_stats[9] * initial_investment, 2)\n",
    "dia_median = round(dia_stats[5] * initial_investment, 2)\n",
    "\n",
    "# Define MSFT confidence intervals & median\n",
    "msft_ci_lower = round(msft_stats[8] * initial_investment, 2)\n",
    "msft_ci_upper = round(msft_stats[9] * initial_investment, 2)\n",
    "msft_median = round(msft_stats[5] * initial_investment, 2)\n",
    "\n",
    "# Define QQQ confidence intervals & median\n",
    "qqq_ci_lower = round(qqq_stats[8] * initial_investment, 2)\n",
    "qqq_ci_upper = round(qqq_stats[9] * initial_investment, 2)\n",
    "qqq_median = round(qqq_stats[5] * initial_investment, 2)\n",
    "\n",
    "# Define SPY confidence intervals & median\n",
    "spy_ci_lower = round(spy_stats[8] * initial_investment, 2)\n",
    "spy_ci_upper = round(spy_stats[9] * initial_investment, 2)\n",
    "spy_median = round(spy_stats[5] * initial_investment, 2)\n",
    "\n",
    "# Print confidence interval and median summaries for all entities in comparison\n",
    "print(f\"Apple Forecast Summary:\")\n",
    "print(f\"There is a 95% chance that an initial investment of ${initial_investment} in AAPL\"\n",
    "      f\" will be worth between ${aapl_ci_lower} and ${aapl_ci_upper} in 10 years.\")\n",
    "print(f\"The median expected value of a current ${initial_investment} investment in AAPL \"\n",
    "      f\"is ${aapl_median} in 10 years.\", '\\n')\n",
    "\n",
    "print(f\"Amazon Forecast Summary:\")\n",
    "print(f\"There is a 95% chance that an initial investment of ${initial_investment} in AMZN\"\n",
    "      f\" will be worth between ${amzn_ci_lower} and ${amzn_ci_upper} in 10 years.\")\n",
    "print(f\"The median expected value of a current ${initial_investment} investment in AMZN \"\n",
    "      f\"is ${amzn_median} in 10 years.\", '\\n')\n",
    "\n",
    "print(f\"Bitcoin Forecast Summary:\")\n",
    "print(f\"There is a 95% chance that an initial investment of ${initial_investment} in BTC\"\n",
    "      f\" will be worth between ${btc_ci_lower} and ${btc_ci_upper} in 10 years.\")\n",
    "print(f\"The median expected value of a current ${initial_investment} investment in BTC \"\n",
    "      f\"is ${btc_median} in 10 years.\", '\\n')\n",
    "\n",
    "print(f\"DJIA ETF Forecast Summary:\")\n",
    "print(f\"There is a 95% chance that an initial investment of ${initial_investment} in DIA\"\n",
    "      f\" will be worth between ${dia_ci_lower} and ${dia_ci_upper} in 10 years.\")\n",
    "print(f\"The median expected value of a current ${initial_investment} investment in DIA \"\n",
    "      f\"is ${dia_median} in 10 years.\", '\\n')\n",
    "\n",
    "print(f\"Microsoft Forecast Summary:\")\n",
    "print(f\"There is a 95% chance that an initial investment of ${initial_investment} in MSFT\"\n",
    "      f\" will be worth between ${msft_ci_lower} and ${msft_ci_upper} in 10 years.\")\n",
    "print(f\"The median expected value of a current ${initial_investment} investment in MSFT \"\n",
    "      f\"is ${msft_median} in 10 years.\", '\\n')\n",
    "\n",
    "print(f\"QQQ Forecast Summary:\")\n",
    "print(f\"There is a 95% chance that an initial investment of ${initial_investment} in QQQ\"\n",
    "      f\" will be worth between ${qqq_ci_lower} and ${qqq_ci_upper} in 10 years.\")\n",
    "print(f\"The median expected value of a current ${initial_investment} investment in QQQ \"\n",
    "      f\"is ${qqq_median} in 10 years.\", '\\n')\n",
    "\n",
    "print(f\"SPY Forecast Summary:\")\n",
    "print(f\"There is a 95% chance that an initial investment of ${initial_investment} in SPY\"\n",
    "      f\" will be worth between ${spy_ci_lower} and ${spy_ci_upper} in 10 years.\")\n",
    "print(f\"The median expected value of a current ${initial_investment} investment in SPY \"\n",
    "      f\"is ${spy_median} in 10 years.\", '\\n')\n",
    "\n",
    "# Save summaries to text file\n",
    "# Source: https://stackoverflow.com/questions/36571560/directing-print-output-to-a-txt-file\n",
    "with open(\"./mc_results_summary/fcst_ci_median_summ.txt\", \"w\") as file:\n",
    "    print(f\"Apple Forecast Summary:\", file=file)\n",
    "    print(f\"There is a 95% chance that an initial investment of ${initial_investment} in AAPL\"\n",
    "      f\" will be worth between ${aapl_ci_lower} and ${aapl_ci_upper} in 10 years.\", file=file)\n",
    "    print(f\"The median expected value of a current ${initial_investment} investment in AAPL \"\n",
    "      f\"is ${aapl_median} in 10 years.\", '\\n', file=file)\n",
    "    print(f\"Amazon Forecast Summary:\", file=file)\n",
    "    print(f\"There is a 95% chance that an initial investment of ${initial_investment} in AMZN\"\n",
    "      f\" will be worth between ${amzn_ci_lower} and ${amzn_ci_upper} in 10 years.\", file=file)\n",
    "    print(f\"The median expected value of a current ${initial_investment} investment in AMZN \"\n",
    "      f\"is ${amzn_median} in 10 years.\", '\\n', file=file)\n",
    "    print(f\"Bitcoin Forecast Summary:\", file=file)\n",
    "    print(f\"There is a 95% chance that an initial investment of ${initial_investment} in BTC\"\n",
    "      f\" will be worth between ${btc_ci_lower} and ${btc_ci_upper} in 10 years.\", file=file)\n",
    "    print(f\"The median expected value of a current ${initial_investment} investment in BTC \"\n",
    "      f\"is ${btc_median} in 10 years.\", '\\n', file=file)\n",
    "    print(f\"DJIA ETF Forecast Summary:\", file=file)\n",
    "    print(f\"There is a 95% chance that an initial investment of ${initial_investment} in DIA\"\n",
    "      f\" will be worth between ${dia_ci_lower} and ${dia_ci_upper} in 10 years.\", file=file)\n",
    "    print(f\"The median expected value of a current ${initial_investment} investment in DIA \"\n",
    "      f\"is ${dia_median} in 10 years.\", '\\n', file=file)\n",
    "    print(f\"Microsoft Forecast Summary:\", file=file)\n",
    "    print(f\"There is a 95% chance that an initial investment of ${initial_investment} in MSFT\"\n",
    "      f\" will be worth between ${msft_ci_lower} and ${msft_ci_upper} in 10 years.\", file=file)\n",
    "    print(f\"The median expected value of a current ${initial_investment} investment in MSFT \"\n",
    "      f\"is ${msft_median} in 10 years.\", '\\n', file=file)\n",
    "    print(f\"QQQ Forecast Summary:\", file=file)\n",
    "    print(f\"There is a 95% chance that an initial investment of ${initial_investment} in QQQ\"\n",
    "      f\" will be worth between ${qqq_ci_lower} and ${qqq_ci_upper} in 10 years.\", file=file)\n",
    "    print(f\"The median expected value of a current ${initial_investment} investment in QQQ \"\n",
    "      f\"is ${qqq_median} in 10 years.\", '\\n', file=file)\n",
    "    print(f\"SPY Forecast Summary:\", file=file)\n",
    "    print(f\"There is a 95% chance that an initial investment of ${initial_investment} in SPY\"\n",
    "      f\" will be worth between ${spy_ci_lower} and ${spy_ci_upper} in 10 years.\", file=file)\n",
    "    print(f\"The median expected value of a current ${initial_investment} investment in SPY \"\n",
    "      f\"is ${spy_median} in 10 years.\", '\\n', file=file)"
   ]
  },
  {
   "cell_type": "code",
   "execution_count": null,
   "id": "75750044",
   "metadata": {},
   "outputs": [],
   "source": []
  },
  {
   "cell_type": "code",
   "execution_count": null,
   "id": "e0fd410e",
   "metadata": {},
   "outputs": [],
   "source": []
  }
 ],
 "metadata": {
  "kernelspec": {
   "display_name": "Python 3",
   "language": "python",
   "name": "python3"
  },
  "language_info": {
   "codemirror_mode": {
    "name": "ipython",
    "version": 3
   },
   "file_extension": ".py",
   "mimetype": "text/x-python",
   "name": "python",
   "nbconvert_exporter": "python",
   "pygments_lexer": "ipython3",
   "version": "3.8.8"
  }
 },
 "nbformat": 4,
 "nbformat_minor": 5
}
